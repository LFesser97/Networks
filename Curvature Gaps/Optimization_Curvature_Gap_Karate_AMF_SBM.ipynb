{
  "nbformat": 4,
  "nbformat_minor": 0,
  "metadata": {
    "colab": {
      "provenance": []
    },
    "kernelspec": {
      "name": "python3",
      "display_name": "Python 3"
    },
    "language_info": {
      "name": "python"
    }
  },
  "cells": [
    {
      "cell_type": "code",
      "execution_count": 1,
      "metadata": {
        "colab": {
          "base_uri": "https://localhost:8080/",
          "height": 337
        },
        "id": "s2DhuwTm9Lys",
        "outputId": "18847c78-76a5-4000-c49c-c68019766b4c"
      },
      "outputs": [
        {
          "output_type": "stream",
          "name": "stdout",
          "text": [
            "Looking in indexes: https://pypi.org/simple, https://us-python.pkg.dev/colab-wheels/public/simple/\n",
            "Collecting GraphRicciCurvature\n",
            "  Downloading GraphRicciCurvature-0.5.3.1-py3-none-any.whl (23 kB)\n",
            "Requirement already satisfied: cython in /usr/local/lib/python3.8/dist-packages (from GraphRicciCurvature) (0.29.32)\n",
            "Requirement already satisfied: scipy>=1.0 in /usr/local/lib/python3.8/dist-packages (from GraphRicciCurvature) (1.7.3)\n",
            "Requirement already satisfied: numpy in /usr/local/lib/python3.8/dist-packages (from GraphRicciCurvature) (1.21.6)\n",
            "Collecting pot>=0.8.0\n",
            "  Downloading POT-0.8.2-cp38-cp38-manylinux_2_12_x86_64.manylinux2010_x86_64.whl (682 kB)\n",
            "\u001b[K     |████████████████████████████████| 682 kB 5.2 MB/s \n",
            "\u001b[?25hRequirement already satisfied: python-louvain in /usr/local/lib/python3.8/dist-packages (from GraphRicciCurvature) (0.16)\n",
            "Requirement already satisfied: networkx>=2.0 in /usr/local/lib/python3.8/dist-packages (from GraphRicciCurvature) (2.6.3)\n",
            "Collecting networkit>=6.1\n",
            "  Downloading networkit-10.0-cp38-cp38-manylinux_2_12_x86_64.manylinux2010_x86_64.whl (9.8 MB)\n",
            "\u001b[K     |████████████████████████████████| 9.8 MB 26.0 MB/s \n",
            "\u001b[?25hRequirement already satisfied: packaging in /usr/local/lib/python3.8/dist-packages (from GraphRicciCurvature) (21.3)\n",
            "Requirement already satisfied: pyparsing!=3.0.5,>=2.0.2 in /usr/local/lib/python3.8/dist-packages (from packaging->GraphRicciCurvature) (3.0.9)\n",
            "Installing collected packages: pot, networkit, GraphRicciCurvature\n",
            "Successfully installed GraphRicciCurvature-0.5.3.1 networkit-10.0 pot-0.8.2\n"
          ]
        },
        {
          "output_type": "display_data",
          "data": {
            "text/html": [
              "\n",
              "\t\t\t<script type=\"text/javascript\">\n",
              "\t\t\t<!--\n",
              "\t\t\t\t\n",
              "\t\t\t{\n",
              "\t\t\t\tvar element = document.getElementById('NetworKit_script');\n",
              "\t\t\t\tif (element) {\n",
              "\t\t\t\t\telement.parentNode.removeChild(element);\n",
              "\t\t\t\t}\n",
              "\t\t\t\telement = document.createElement('script');\n",
              "\t\t\t\telement.type = 'text/javascript';\n",
              "\t\t\t\telement.innerHTML = 'function NetworKit_pageEmbed(id) { var i, j; var elements; elements = document.getElementById(id).getElementsByClassName(\"Plot\"); for (i=0; i<elements.length; i++) { elements[i].id = id + \"_Plot_\" + i; var data = elements[i].getAttribute(\"data-image\").split(\"|\"); elements[i].removeAttribute(\"data-image\"); var content = \"<div class=\\\\\"Image\\\\\" id=\\\\\"\" + elements[i].id + \"_Image\\\\\" />\"; elements[i].innerHTML = content; elements[i].setAttribute(\"data-image-index\", 0); elements[i].setAttribute(\"data-image-length\", data.length); for (j=0; j<data.length; j++) { elements[i].setAttribute(\"data-image-\" + j, data[j]); } NetworKit_plotUpdate(elements[i]); elements[i].onclick = function (e) { NetworKit_overlayShow((e.target) ? e.target : e.srcElement); } } elements = document.getElementById(id).getElementsByClassName(\"HeatCell\"); for (i=0; i<elements.length; i++) { var data = parseFloat(elements[i].getAttribute(\"data-heat\")); var color = \"#00FF00\"; if (data <= 1 && data > 0) { color = \"hsla(0, 100%, 75%, \" + (data) + \")\"; } else if (data <= 0 && data >= -1) { color = \"hsla(240, 100%, 75%, \" + (-data) + \")\"; } elements[i].style.backgroundColor = color; } elements = document.getElementById(id).getElementsByClassName(\"Details\"); for (i=0; i<elements.length; i++) { elements[i].setAttribute(\"data-title\", \"-\"); NetworKit_toggleDetails(elements[i]); elements[i].onclick = function (e) { NetworKit_toggleDetails((e.target) ? e.target : e.srcElement); } } elements = document.getElementById(id).getElementsByClassName(\"MathValue\"); for (i=elements.length-1; i>=0; i--) { value = elements[i].innerHTML.trim(); if (value === \"nan\") { elements[i].parentNode.innerHTML = \"\" } } elements = document.getElementById(id).getElementsByClassName(\"SubCategory\"); for (i=elements.length-1; i>=0; i--) { value = elements[i].innerHTML.trim(); if (value === \"\") { elements[i].parentNode.removeChild(elements[i]) } } elements = document.getElementById(id).getElementsByClassName(\"Category\"); for (i=elements.length-1; i>=0; i--) { value = elements[i].innerHTML.trim(); if (value === \"\") { elements[i].parentNode.removeChild(elements[i]) } } var isFirefox = false; try { isFirefox = typeof InstallTrigger !== \"undefined\"; } catch (e) {} if (!isFirefox) { alert(\"Currently the function\\'s output is only fully supported by Firefox.\"); } } function NetworKit_plotUpdate(source) { var index = source.getAttribute(\"data-image-index\"); var data = source.getAttribute(\"data-image-\" + index); var image = document.getElementById(source.id + \"_Image\"); image.style.backgroundImage = \"url(\" + data + \")\"; } function NetworKit_showElement(id, show) { var element = document.getElementById(id); element.style.display = (show) ? \"block\" : \"none\"; } function NetworKit_overlayShow(source) { NetworKit_overlayUpdate(source); NetworKit_showElement(\"NetworKit_Overlay\", true); } function NetworKit_overlayUpdate(source) { document.getElementById(\"NetworKit_Overlay_Title\").innerHTML = source.title; var index = source.getAttribute(\"data-image-index\"); var data = source.getAttribute(\"data-image-\" + index); var image = document.getElementById(\"NetworKit_Overlay_Image\"); image.setAttribute(\"data-id\", source.id); image.style.backgroundImage = \"url(\" + data + \")\"; var link = document.getElementById(\"NetworKit_Overlay_Toolbar_Bottom_Save\"); link.href = data; link.download = source.title + \".svg\"; } function NetworKit_overlayImageShift(delta) { var image = document.getElementById(\"NetworKit_Overlay_Image\"); var source = document.getElementById(image.getAttribute(\"data-id\")); var index = parseInt(source.getAttribute(\"data-image-index\")); var length = parseInt(source.getAttribute(\"data-image-length\")); var index = (index+delta) % length; if (index < 0) { index = length + index; } source.setAttribute(\"data-image-index\", index); NetworKit_overlayUpdate(source); } function NetworKit_toggleDetails(source) { var childs = source.children; var show = false; if (source.getAttribute(\"data-title\") == \"-\") { source.setAttribute(\"data-title\", \"+\"); show = false; } else { source.setAttribute(\"data-title\", \"-\"); show = true; } for (i=0; i<childs.length; i++) { if (show) { childs[i].style.display = \"block\"; } else { childs[i].style.display = \"none\"; } } }';\n",
              "\t\t\t\telement.setAttribute('id', 'NetworKit_script');\n",
              "\t\t\t\tdocument.head.appendChild(element);\n",
              "\t\t\t}\n",
              "\t\t\n",
              "\t\t\t\t\n",
              "\t\t\t{\n",
              "\t\t\t\tvar element = document.getElementById('NetworKit_style');\n",
              "\t\t\t\tif (element) {\n",
              "\t\t\t\t\telement.parentNode.removeChild(element);\n",
              "\t\t\t\t}\n",
              "\t\t\t\telement = document.createElement('style');\n",
              "\t\t\t\telement.type = 'text/css';\n",
              "\t\t\t\telement.innerHTML = '.NetworKit_Page { font-family: Arial, Helvetica, sans-serif; font-size: 14px; } .NetworKit_Page .Value:before { font-family: Arial, Helvetica, sans-serif; font-size: 1.05em; content: attr(data-title) \":\"; margin-left: -2.5em; padding-right: 0.5em; } .NetworKit_Page .Details .Value:before { display: block; } .NetworKit_Page .Value { font-family: monospace; white-space: pre; padding-left: 2.5em; white-space: -moz-pre-wrap !important; white-space: -pre-wrap; white-space: -o-pre-wrap; white-space: pre-wrap; word-wrap: break-word; tab-size: 4; -moz-tab-size: 4; } .NetworKit_Page .Category { clear: both; padding-left: 1em; margin-bottom: 1.5em; } .NetworKit_Page .Category:before { content: attr(data-title); font-size: 1.75em; display: block; margin-left: -0.8em; margin-bottom: 0.5em; } .NetworKit_Page .SubCategory { margin-bottom: 1.5em; padding-left: 1em; } .NetworKit_Page .SubCategory:before { font-size: 1.6em; display: block; margin-left: -0.8em; margin-bottom: 0.5em; } .NetworKit_Page .SubCategory[data-title]:before { content: attr(data-title); } .NetworKit_Page .Block { display: block; } .NetworKit_Page .Block:after { content: \".\"; visibility: hidden; display: block; height: 0; clear: both; } .NetworKit_Page .Block .Thumbnail_Overview, .NetworKit_Page .Block .Thumbnail_ScatterPlot { width: 260px; float: left; } .NetworKit_Page .Block .Thumbnail_Overview img, .NetworKit_Page .Block .Thumbnail_ScatterPlot img { width: 260px; } .NetworKit_Page .Block .Thumbnail_Overview:before, .NetworKit_Page .Block .Thumbnail_ScatterPlot:before { display: block; text-align: center; font-weight: bold; } .NetworKit_Page .Block .Thumbnail_Overview:before { content: attr(data-title); } .NetworKit_Page .HeatCell { font-family: \"Courier New\", Courier, monospace; cursor: pointer; } .NetworKit_Page .HeatCell, .NetworKit_Page .HeatCellName { display: inline; padding: 0.1em; margin-right: 2px; background-color: #FFFFFF } .NetworKit_Page .HeatCellName { margin-left: 0.25em; } .NetworKit_Page .HeatCell:before { content: attr(data-heat); display: inline-block; color: #000000; width: 4em; text-align: center; } .NetworKit_Page .Measure { clear: both; } .NetworKit_Page .Measure .Details { cursor: pointer; } .NetworKit_Page .Measure .Details:before { content: \"[\" attr(data-title) \"]\"; display: block; } .NetworKit_Page .Measure .Details .Value { border-left: 1px dotted black; margin-left: 0.4em; padding-left: 3.5em; pointer-events: none; } .NetworKit_Page .Measure .Details .Spacer:before { content: \".\"; opacity: 0.0; pointer-events: none; } .NetworKit_Page .Measure .Plot { width: 440px; height: 440px; cursor: pointer; float: left; margin-left: -0.9em; margin-right: 20px; } .NetworKit_Page .Measure .Plot .Image { background-repeat: no-repeat; background-position: center center; background-size: contain; height: 100%; pointer-events: none; } .NetworKit_Page .Measure .Stat { width: 500px; float: left; } .NetworKit_Page .Measure .Stat .Group { padding-left: 1.25em; margin-bottom: 0.75em; } .NetworKit_Page .Measure .Stat .Group .Title { font-size: 1.1em; display: block; margin-bottom: 0.3em; margin-left: -0.75em; border-right-style: dotted; border-right-width: 1px; border-bottom-style: dotted; border-bottom-width: 1px; background-color: #D0D0D0; padding-left: 0.2em; } .NetworKit_Page .Measure .Stat .Group .List { -webkit-column-count: 3; -moz-column-count: 3; column-count: 3; } .NetworKit_Page .Measure .Stat .Group .List .Entry { position: relative; line-height: 1.75em; } .NetworKit_Page .Measure .Stat .Group .List .Entry[data-tooltip]:before { position: absolute; left: 0; top: -40px; background-color: #808080; color: #ffffff; height: 30px; line-height: 30px; border-radius: 5px; padding: 0 15px; content: attr(data-tooltip); white-space: nowrap; display: none; } .NetworKit_Page .Measure .Stat .Group .List .Entry[data-tooltip]:after { position: absolute; left: 15px; top: -10px; border-top: 7px solid #808080; border-left: 7px solid transparent; border-right: 7px solid transparent; content: \"\"; display: none; } .NetworKit_Page .Measure .Stat .Group .List .Entry[data-tooltip]:hover:after, .NetworKit_Page .Measure .Stat .Group .List .Entry[data-tooltip]:hover:before { display: block; } .NetworKit_Page .Measure .Stat .Group .List .Entry .MathValue { font-family: \"Courier New\", Courier, monospace; } .NetworKit_Page .Measure:after { content: \".\"; visibility: hidden; display: block; height: 0; clear: both; } .NetworKit_Page .PartitionPie { clear: both; } .NetworKit_Page .PartitionPie img { width: 600px; } #NetworKit_Overlay { left: 0px; top: 0px; display: none; position: absolute; width: 100%; height: 100%; background-color: rgba(0,0,0,0.6); z-index: 1000; } #NetworKit_Overlay_Title { position: absolute; color: white; transform: rotate(-90deg); width: 32em; height: 32em; padding-right: 0.5em; padding-top: 0.5em; text-align: right; font-size: 40px; } #NetworKit_Overlay .button { background: white; cursor: pointer; } #NetworKit_Overlay .button:before { size: 13px; display: inline-block; text-align: center; margin-top: 0.5em; margin-bottom: 0.5em; width: 1.5em; height: 1.5em; } #NetworKit_Overlay .icon-close:before { content: \"X\"; } #NetworKit_Overlay .icon-previous:before { content: \"P\"; } #NetworKit_Overlay .icon-next:before { content: \"N\"; } #NetworKit_Overlay .icon-save:before { content: \"S\"; } #NetworKit_Overlay_Toolbar_Top, #NetworKit_Overlay_Toolbar_Bottom { position: absolute; width: 40px; right: 13px; text-align: right; z-index: 1100; } #NetworKit_Overlay_Toolbar_Top { top: 0.5em; } #NetworKit_Overlay_Toolbar_Bottom { Bottom: 0.5em; } #NetworKit_Overlay_ImageContainer { position: absolute; top: 5%; left: 5%; height: 90%; width: 90%; background-repeat: no-repeat; background-position: center center; background-size: contain; } #NetworKit_Overlay_Image { height: 100%; width: 100%; background-repeat: no-repeat; background-position: center center; background-size: contain; }';\n",
              "\t\t\t\telement.setAttribute('id', 'NetworKit_style');\n",
              "\t\t\t\tdocument.head.appendChild(element);\n",
              "\t\t\t}\n",
              "\t\t\n",
              "\t\t\t\t\n",
              "\t\t\t{\n",
              "\t\t\t\tvar element = document.getElementById('NetworKit_Overlay');\n",
              "\t\t\t\tif (element) {\n",
              "\t\t\t\t\telement.parentNode.removeChild(element);\n",
              "\t\t\t\t}\n",
              "\t\t\t\telement = document.createElement('div');\n",
              "\t\t\t\telement.innerHTML = '<div id=\"NetworKit_Overlay_Toolbar_Top\"><div class=\"button icon-close\" id=\"NetworKit_Overlay_Close\" /></div><div id=\"NetworKit_Overlay_Title\" /> <div id=\"NetworKit_Overlay_ImageContainer\"> <div id=\"NetworKit_Overlay_Image\" /> </div> <div id=\"NetworKit_Overlay_Toolbar_Bottom\"> <div class=\"button icon-previous\" onclick=\"NetworKit_overlayImageShift(-1)\" /> <div class=\"button icon-next\" onclick=\"NetworKit_overlayImageShift(1)\" /> <a id=\"NetworKit_Overlay_Toolbar_Bottom_Save\"><div class=\"button icon-save\" /></a> </div>';\n",
              "\t\t\t\telement.setAttribute('id', 'NetworKit_Overlay');\n",
              "\t\t\t\tdocument.body.appendChild(element);\n",
              "\t\t\t\tdocument.getElementById('NetworKit_Overlay_Close').onclick = function (e) {\n",
              "\t\t\t\t\tdocument.getElementById('NetworKit_Overlay').style.display = 'none';\n",
              "\t\t\t\t}\n",
              "\t\t\t}\n",
              "\t\t\n",
              "\t\t\t-->\n",
              "\t\t\t</script>\n",
              "\t\t"
            ]
          },
          "metadata": {}
        }
      ],
      "source": [
        "# install GraphRicciCurvature package\n",
        "\n",
        "!pip install GraphRicciCurvature\n",
        "\n",
        "# import packages\n",
        "\n",
        "import networkx as nx\n",
        "import matplotlib.pyplot as plt\n",
        "from time import perf_counter\n",
        "import numpy as np\n",
        "\n",
        "from scipy.optimize import minimize\n",
        "\n",
        "from GraphRicciCurvature.FormanRicci import FormanRicci\n",
        "from GraphRicciCurvature.OllivierRicci import OllivierRicci\n"
      ]
    },
    {
      "cell_type": "markdown",
      "source": [],
      "metadata": {
        "id": "EOWzZsjw99H8"
      }
    },
    {
      "cell_type": "markdown",
      "source": [],
      "metadata": {
        "id": "IlsN2L6g9S9s"
      }
    },
    {
      "cell_type": "code",
      "source": [
        "def simple_cycles(G, limit):\n",
        "    subG = type(G)(G.edges())\n",
        "    sccs = list(nx.strongly_connected_components(subG))\n",
        "    while sccs:\n",
        "        scc = sccs.pop()\n",
        "        startnode = scc.pop()\n",
        "        path = [startnode]\n",
        "        blocked = set()\n",
        "        blocked.add(startnode)\n",
        "        stack = [(startnode, list(subG[startnode]))]\n",
        "\n",
        "        while stack:\n",
        "            thisnode, nbrs = stack[-1]\n",
        "\n",
        "            if nbrs and len(path) < limit:\n",
        "                nextnode = nbrs.pop()\n",
        "                if nextnode == startnode:\n",
        "                    yield path[:]\n",
        "                elif nextnode not in blocked:\n",
        "                    path.append(nextnode)\n",
        "                    stack.append((nextnode, list(subG[nextnode])))\n",
        "                    blocked.add(nextnode)\n",
        "                    continue\n",
        "            if not nbrs or len(path) >= limit:\n",
        "                blocked.remove(thisnode)\n",
        "                stack.pop()\n",
        "                path.pop()\n",
        "        subG.remove_node(startnode)\n",
        "        H = subG.subgraph(scc)\n",
        "        sccs.extend(list(nx.strongly_connected_components(H)))"
      ],
      "metadata": {
        "id": "ASsMa6Hm-JgJ"
      },
      "execution_count": 2,
      "outputs": []
    },
    {
      "cell_type": "markdown",
      "source": [],
      "metadata": {
        "id": "51DXa_lL-QuC"
      }
    },
    {
      "cell_type": "code",
      "source": [
        "def afr_curvature (G, ni, nj, t_coeff, t_num):\n",
        "    '''\n",
        "    computes the Augmented Forman-Ricci curvature of a given edge \n",
        "    includes 3-cycles in calculation \n",
        "    \n",
        "    Parameters\n",
        "    ----------\n",
        "    G : Graph\n",
        "    ni : node i\n",
        "    nj : node j\n",
        "    m : number of triangles containing the edge between node i and j\n",
        "\n",
        "    Returns\n",
        "    -------\n",
        "    afrc : int\n",
        "        Forman Ricci curvature of the edge connecting nodes i and j   \n",
        "    '''\n",
        "    afrc = 4 - G.degree(ni) - G.degree(nj) + t_coeff * t_num\n",
        "    return afrc"
      ],
      "metadata": {
        "id": "5T-b3ezw-Q35"
      },
      "execution_count": 3,
      "outputs": []
    },
    {
      "cell_type": "markdown",
      "source": [],
      "metadata": {
        "id": "RJ_B2SEQ-VUZ"
      }
    },
    {
      "cell_type": "code",
      "source": [
        "def afr4_curvature (G, ni, nj, t_coeff, t_num, q_coeff, q_num):\n",
        "    '''\n",
        "    computes the Augmented Forman-Ricci curvature of a given edge, \n",
        "    includes 3- and 4-cycles in calculation \n",
        "    \n",
        "    Parameters\n",
        "    ----------\n",
        "    G : Graph\n",
        "    ni : node i\n",
        "    nj : node j\n",
        "    t : number of triangles containing the edge between node i and j\n",
        "    q : number of quadrangles containing the edge between node i and j\n",
        "\n",
        "    Returns\n",
        "    -------\n",
        "    afrc4 : int\n",
        "        enhanced Forman Ricci curvature of the edge connecting nodes i and j   \n",
        "    '''\n",
        "    afrc4 = 4 - G.degree(ni) - G.degree(nj) + t_coeff * t_num + q_coeff * q_num\n",
        "    return afrc4"
      ],
      "metadata": {
        "id": "z5KEBzwB1sOF"
      },
      "execution_count": 4,
      "outputs": []
    },
    {
      "cell_type": "markdown",
      "source": [],
      "metadata": {
        "id": "TRfTrtcj1wl-"
      }
    },
    {
      "cell_type": "code",
      "source": [
        "def afr5_curvature (G, ni, nj, t_coeff, t_num, q_coeff, q_num, p_coeff, p_num):\n",
        "    '''\n",
        "    computes the Augmented Forman-Ricci curvature of a given edge \n",
        "    includes 3-, 4- and 5-cycles in calculation \n",
        "    \n",
        "    Parameters\n",
        "    ----------\n",
        "    G : Graph\n",
        "    ni : node i\n",
        "    nj : node j\n",
        "    t : number of triangles containing the edge between node i and j\n",
        "    q : number of quadrangles containing the edge between node i and j\n",
        "    p : number of pentagons containing the edge between node i and j\n",
        "\n",
        "    Returns\n",
        "    -------\n",
        "    afrc5 : int\n",
        "        enhanced Forman Ricci curvature of the edge connecting nodes i and j   \n",
        "    '''\n",
        "    afrc5 = 4 - G.degree(ni) - G.degree(nj) + t_coeff * t_num + q_coeff * q_num + p_coeff * p_num\n",
        "    return afrc5"
      ],
      "metadata": {
        "id": "P0Es9_kF1xD0"
      },
      "execution_count": 5,
      "outputs": []
    },
    {
      "cell_type": "markdown",
      "source": [],
      "metadata": {
        "id": "J2vFUJKh1xck"
      }
    },
    {
      "cell_type": "code",
      "source": [
        "def init_edge_attributes(G):\n",
        "    curv_names = [\"frc\", \"afrc\", \"afrc4\", \"afrc5\"] \n",
        "    for (u,v) in list(G.edges()):\n",
        "        for i in range(3,6):\n",
        "            G.edges[u,v][cyc_names[i]] = []\n",
        "        for cn in curv_names:\n",
        "            G.edges[u,v][cn] = 0"
      ],
      "metadata": {
        "id": "I0wygE0H-cwx"
      },
      "execution_count": 6,
      "outputs": []
    },
    {
      "cell_type": "markdown",
      "source": [],
      "metadata": {
        "id": "xUzg9wWW-foq"
      }
    },
    {
      "cell_type": "code",
      "source": [
        "def set_edge_attributes_2 (G, ll, i):\n",
        "    for l in ll:     # für jeden Zyklus in der Liste der Zyklen\n",
        "        for e1 in range(0, i): \n",
        "            if e1 == i-1:\n",
        "                e2 = 0\n",
        "            else:\n",
        "                e2 = e1 + 1\n",
        "            u = l[e1]\n",
        "            v = l[e2]\n",
        "            G.edges[u,v][cyc_names[i]].append(l)"
      ],
      "metadata": {
        "id": "mUWtENlJ-fyZ"
      },
      "execution_count": 7,
      "outputs": []
    },
    {
      "cell_type": "markdown",
      "source": [],
      "metadata": {
        "id": "Voals-3yFaxN"
      }
    },
    {
      "cell_type": "code",
      "source": [
        "def get_within_vs_between_curv(Gr, cmp_key=\"block\"):\n",
        "    curv_names = [\"orc\", \"frc\", \"afrc\", \"afrc4\", \"afrc5\"] \n",
        "    \n",
        "    c_dict = {\"withins\": {}, \"betweens\": {}}\n",
        "    for k in c_dict.keys():\n",
        "        for cn in curv_names:\n",
        "            c_dict[k][cn] = {\"data\": [], \"mean\": 0, \"std\": 0}\n",
        "        \n",
        "    for u,v,d in Gr.edges.data():                           # für alle Kanten \n",
        "        if Gr.nodes[u][cmp_key] == Gr.nodes[v][cmp_key]:    # innerhalb eines Blocks\n",
        "            for cn in curv_names:                          # für alle verschiedenen Curvartures\n",
        "                c_dict[\"withins\"][cn][\"data\"].append(Gr.edges[u,v][cn])           # hängt den Curvature-Wert der aktuellen Kante an die LIste an \n",
        "        else:                                               # zwischen Blöcken\n",
        "            for cn in curv_names:                          # für alle verschiedenen Curvartures\n",
        "                c_dict[\"betweens\"][cn][\"data\"].append(Gr.edges[u,v][cn])           # hängt den Curvature-Wert der aktuellen Kante an die LIste an \n",
        "\n",
        "    for k in c_dict.keys():\n",
        "        for cn in curv_names:\n",
        "            c_dict[k][cn][\"mean\"] = np.mean(c_dict[k][cn][\"data\"])      # Mittelwerte berechnen\n",
        "            c_dict[k][cn][\"std\"] = np.std(c_dict[k][cn][\"data\"])        # Std.-abw. berechnen\n",
        "            \n",
        "    res_diffs = {}\n",
        "    for cn in curv_names:\n",
        "        sum_std = np.sqrt(np.square(c_dict[\"withins\"][cn][\"std\"]) + np.square(c_dict[\"betweens\"][cn][\"std\"]))   # Gesamt-Stdabw berechnen\n",
        "        res_diffs[cn] = np.abs((c_dict[\"withins\"][cn][\"mean\"] - c_dict[\"betweens\"][cn][\"mean\"]) / sum_std)     # Differenz der Mittelwerte bilden und normieren\n",
        "    \n",
        "    return res_diffs"
      ],
      "metadata": {
        "id": "K5tL6t97FizH"
      },
      "execution_count": 8,
      "outputs": []
    },
    {
      "cell_type": "markdown",
      "source": [],
      "metadata": {
        "id": "zAF8zyxw57BY"
      }
    },
    {
      "cell_type": "code",
      "source": [
        "def get_orc_edge_curvatures (G):          \n",
        "    # compute the Ollivier-Ricci curvature of the given graph G\n",
        "    orc = OllivierRicci(G, alpha=0.5, verbose=\"ERROR\")\n",
        "    orc.compute_ricci_curvature()\n",
        "    # transfer curvatire values from orc.G to G \n",
        "    for (u,v) in list(orc.G.edges()):               # für jede Kante\n",
        "        G.edges[u,v][\"orc\"] = orc.G.edges[u,v][\"ricciCurvature\"]\n",
        "        # print(\"ORC: \", orc.G.edges[u,v][\"ricciCurvature\"], (\"  -  G: \",G.edges[u,v][\"orc\"])"
      ],
      "metadata": {
        "id": "PewzLQ0m-uFD"
      },
      "execution_count": 9,
      "outputs": []
    },
    {
      "cell_type": "markdown",
      "source": [],
      "metadata": {
        "id": "FU-rTUDH-yLS"
      }
    },
    {
      "cell_type": "code",
      "source": [
        "def get_edge_curvatures (G, t_coeff = 3, q_coeff = 2, p_coeff = 1):            \n",
        "    for (u,v) in list(G.edges()):               # für jede Kante\n",
        "        tr = len(G.edges[u,v][cyc_names[3]]) / 2  # geteilt durch 2 wegen gerichtetem Graph und daher immer zwei Permutationen pro Zyklus (1x vorwärts / 1x rückwärts)\n",
        "        qu = len(G.edges[u,v][cyc_names[4]]) / 2\n",
        "        pe = len(G.edges[u,v][cyc_names[5]]) / 2\n",
        "        # G.edges[u,v][\"frc\"] = fr_curvature(G, u, v)        \n",
        "        G.edges[u,v][\"afrc\"] = afr_curvature(G, u, v, t_coeff, tr)\n",
        "        G.edges[u,v][\"afrc4\"] = afr4_curvature(G, u, v, t_coeff, tr, q_coeff, qu)\n",
        "        G.edges[u,v][\"afrc5\"] = afr5_curvature(G, u, v, t_coeff, tr, q_coeff, qu, p_coeff, pe)     "
      ],
      "metadata": {
        "id": "gTJZrOR9-yTi"
      },
      "execution_count": 10,
      "outputs": []
    },
    {
      "cell_type": "markdown",
      "source": [],
      "metadata": {
        "id": "kVsr04kj-2yk"
      }
    },
    {
      "cell_type": "code",
      "source": [
        "def get_curvature_gap(Gr, cn=\"afrc\", cmp_key=\"block\"):\n",
        "    c_dict = {\"withins\": {}, \"betweens\": {}}\n",
        "    for k in c_dict.keys():\n",
        "        c_dict[k] = {\"data\": [], \"mean\": 0, \"std\": 0}\n",
        "        \n",
        "    for u,v,d in Gr.edges.data():                           # für alle Kanten \n",
        "        if Gr.nodes[u][cmp_key] == Gr.nodes[v][cmp_key]:    # innerhalb eines Blocks\n",
        "            c_dict[\"withins\"][\"data\"].append(Gr.edges[u,v][cn])           # hängt den Curvature-Wert der aktuellen Kante an die LIste an \n",
        "        else:                                               # zwischen Blöcken\n",
        "            c_dict[\"betweens\"][\"data\"].append(Gr.edges[u,v][cn])           # hängt den Curvature-Wert der aktuellen Kante an die LIste an \n",
        "\n",
        "    for k in c_dict.keys():\n",
        "        c_dict[k][\"mean\"] = np.mean(c_dict[k][\"data\"])      # Mittelwerte berechnen\n",
        "        c_dict[k][\"std\"] = np.std(c_dict[k][\"data\"])        # Std.-abw. berechnen\n",
        "            \n",
        "    sum_std = np.sqrt(np.square(c_dict[\"withins\"][\"std\"]) + np.square(c_dict[\"betweens\"][\"std\"]))   # Gesamt-Stdabw berechnen\n",
        "    curv_gap = np.abs((c_dict[\"withins\"][\"mean\"] - c_dict[\"betweens\"][\"mean\"]) / sum_std)     # Differenz der Mittelwerte bilden und normieren\n",
        "    \n",
        "    return curv_gap"
      ],
      "metadata": {
        "id": "8HJDjLT156Zb"
      },
      "execution_count": 11,
      "outputs": []
    },
    {
      "cell_type": "markdown",
      "source": [],
      "metadata": {
        "id": "ygGFm61E_jjt"
      }
    },
    {
      "cell_type": "code",
      "source": [
        "def build_size_list (k, l):\n",
        "    ll = [k  for i in range(l)]\n",
        "    return ll"
      ],
      "metadata": {
        "id": "qQu3hEtrY4j8"
      },
      "execution_count": 16,
      "outputs": []
    },
    {
      "cell_type": "markdown",
      "source": [],
      "metadata": {
        "id": "bg29T8GBY5Y-"
      }
    },
    {
      "cell_type": "code",
      "source": [
        "def build_prob_list (n, p_in, p_out):\n",
        "    ll = []\n",
        "    for i in range(n):    \n",
        "        temp_l = [p_out  for j in range(0,i)] + [p_in] + [p_out  for j in range(i+2,n+1)]\n",
        "        ll.append(temp_l)\n",
        "    return ll"
      ],
      "metadata": {
        "id": "pQv0Pb5tY21E"
      },
      "execution_count": 17,
      "outputs": []
    },
    {
      "cell_type": "markdown",
      "source": [],
      "metadata": {
        "id": "o8ATSdhIY3PN"
      }
    },
    {
      "cell_type": "code",
      "source": [
        "cyc_names = {3:\"triangles\", 4:\"quadrangles\", 5:\"pentagons\"}        \n"
      ],
      "metadata": {
        "id": "d14ZSw1Y_Nhb"
      },
      "execution_count": 12,
      "outputs": []
    },
    {
      "cell_type": "markdown",
      "source": [],
      "metadata": {
        "id": "GLeiH3yl_NYZ"
      }
    },
    {
      "cell_type": "code",
      "source": [
        "def optimization_func(a, cmp_key=\"value\"):\n",
        "    t = a[0]\n",
        "    if len(a) > 1:\n",
        "        q = a[1]\n",
        "    else:\n",
        "        q = 0\n",
        "    if len(a) > 2:\n",
        "        p = a[2]\n",
        "    else:\n",
        "        p = 0\n",
        "    # print(\"t=\", t, \" q=\", q, \" p=\", p)\n",
        "    get_edge_curvatures(G, t, q, p)\n",
        "    c_gap = -1 * get_curvature_gap(G, \"afrc5\", cmp_key)\n",
        "    # Comment next line to suppress printing\n",
        "    # print(\"t=\",t,\" q=\",q,\" p=\",p,\" curv gap:\",c_gap)\n",
        "\n",
        "    return c_gap"
      ],
      "metadata": {
        "id": "bcKODxvv_kX1"
      },
      "execution_count": 13,
      "outputs": []
    },
    {
      "cell_type": "code",
      "source": [
        "def maximize_curvature_gap(a, cmp_key = \"value\"):\n",
        "    for i in range(len(a)):\n",
        "        x0 = a[0:i+1]    # Initial values for t / t,q / t,q,p\n",
        "        res = minimize(optimization_func, x0, method='nelder-mead', args = (cmp_key), options={'disp': True})\n",
        "        print(\"Parameters [t(,q)(,p)]: \",res.x)\n",
        "        print(\"Optimized curvature gap: \",-1 * res.fun, \"\\n\")"
      ],
      "metadata": {
        "id": "UlNCtNR5iYLP"
      },
      "execution_count": 14,
      "outputs": []
    },
    {
      "cell_type": "markdown",
      "source": [
        "\n",
        "---\n",
        "Karate Club Graph\n",
        "\n"
      ],
      "metadata": {
        "id": "5l790Gk-AiRv"
      }
    },
    {
      "cell_type": "code",
      "source": [
        "# ----------------------------------------\n",
        "# -------  Karate Club graph  ------------\n",
        "# ----------------------------------------\n",
        "\n",
        "def calculate_karate_club(title_str):\n",
        "\n",
        "    G = nx.karate_club_graph()\n",
        "    init_edge_attributes(G)\n",
        "    H = G.to_directed()\n",
        "\n",
        "    # pos1 = nx.kamada_kawai_layout(H)\n",
        "    # colors= [0  if v[\"club\"] == \"Mr. Hi\" else 1  for u,v in H.nodes.data()]\n",
        "    # plot_my_graph(H, pos1, node_col = colors)\n",
        "    \n",
        "    cycles = []\n",
        "    for c in simple_cycles(H, 6):\n",
        "        cycles.append(c) \n",
        "    \n",
        "    d = dict()\n",
        "    for i in range(3,6):\n",
        "        d[i] = [c  for c in cycles  if len(c) == i]\n",
        "        set_edge_attributes_2(G, d[i], i)\n",
        "        \n",
        "    get_orc_edge_curvatures (G)\n",
        "    get_edge_curvatures(G, t_coeff = 3, q_coeff = 2, p_coeff = 1)\n",
        "    # show_curv_data (G, title_str, cmp_key=\"club\")\n",
        "\n",
        "    # res_diffs = get_within_vs_between_curv(G, cmp_key=\"club\")             # normierte Differenz der Curvatures \"within\" und \"between\" bestimmen und anzeigen  \n",
        "    # print(\"Resulting differences:\") \n",
        "    # for k,v in res_diffs.items():\n",
        "    #     print(k.ljust(15,\".\"), f\"{v:8.5f}\")\n",
        "    # print(\"\\n\\n\")\n",
        "\n",
        "    return G\n",
        "\n",
        "\n",
        "G = calculate_karate_club(\"Karate Club\")\n",
        "maximize_curvature_gap([3,2,1], cmp_key=\"club\")\n"
      ],
      "metadata": {
        "id": "pj8h5XjOAGs3",
        "colab": {
          "base_uri": "https://localhost:8080/"
        },
        "outputId": "4bb28707-088e-4aff-f93d-677116d3be57"
      },
      "execution_count": null,
      "outputs": [
        {
          "output_type": "stream",
          "name": "stdout",
          "text": [
            "Optimization terminated successfully.\n",
            "         Current function value: -0.744230\n",
            "         Iterations: 21\n",
            "         Function evaluations: 42\n",
            "Parameters [t(,q)(,p)]:  [6.08916016]\n",
            "Optimized curvature gap:  0.744230112391133 \n",
            "\n",
            "Optimization terminated successfully.\n",
            "         Current function value: -0.808701\n",
            "         Iterations: 54\n",
            "         Function evaluations: 104\n",
            "Parameters [t(,q)(,p)]:  [13.4659251  -2.02920709]\n",
            "Optimized curvature gap:  0.8087010488454437 \n",
            "\n",
            "Warning: Maximum number of function evaluations has been exceeded.\n",
            "Parameters [t(,q)(,p)]:  [-4.59704270e+13 -2.57132011e+13  1.32888137e+13]\n",
            "Optimized curvature gap:  1.2928507337036348 \n",
            "\n"
          ]
        }
      ]
    },
    {
      "cell_type": "code",
      "source": [
        "# Americal Football (AMF) read-in from football.gml\n",
        "def calculate_AMF(title_str):\n",
        "    G = nx.read_gml(\"football.gml\")\n",
        "    init_edge_attributes(G)\n",
        "    H = G.to_directed()\n",
        "    \n",
        "    # values = set([d[\"value\"]  for n,d in iter(G.nodes.items())])\n",
        "    # max_value = list(values)[-1]\n",
        "    # pos_amf = get_circles_in_circle_pos(G, 0.1, 0.6, 0.5, 0.5, max_value, values)\n",
        "    \n",
        "    # G = colored_amf_graph(G)\n",
        "    # plot_my_graph(G, pos_amf, \n",
        "    #               node_col = [d[\"color\"]  for n,d in G.nodes.data()],\n",
        "    #               color_map = \"tab20\", alpha = 0.7)\n",
        "\n",
        "    cycles = []\n",
        "    for c in simple_cycles(H, 6):\n",
        "        cycles.append(c) \n",
        "    \n",
        "    d = dict()\n",
        "    for i in range(3,6):\n",
        "        d[i] = [c  for c in cycles  if len(c) == i]\n",
        "        set_edge_attributes_2(G, d[i], i)\n",
        "        \n",
        "    get_orc_edge_curvatures (G)\n",
        "    get_edge_curvatures(G, t_coeff = 3, q_coeff = 0.02, p_coeff = 0.002)\n",
        "    # show_curv_data (G, title_str, cmp_key=\"value\")\n",
        "\n",
        "    # res_diffs = get_within_vs_between_curv(G, cmp_key=\"value\")             # normierte Differenz der Curvatures \"within\" und \"between\" bestimmen und anzeigen  \n",
        "    # print(\"Resulting differences:\") \n",
        "    # for k,v in res_diffs.items():\n",
        "    #     print(k.ljust(15,\".\"), f\"{v:8.5f}\")\n",
        "    # print(\"\\n\\n\")\n",
        "\n",
        "    return G\n",
        "\n",
        "\n",
        "G = calculate_AMF(\"American Football League\")\n",
        "maximize_curvature_gap([3,2,1], cmp_key=\"value\")\n"
      ],
      "metadata": {
        "colab": {
          "base_uri": "https://localhost:8080/"
        },
        "id": "8lKFuA0USFH8",
        "outputId": "a2f1f360-f83f-4978-db8b-0c4d7aad970f"
      },
      "execution_count": null,
      "outputs": [
        {
          "output_type": "stream",
          "name": "stdout",
          "text": [
            "Warning: Maximum number of function evaluations has been exceeded.\n",
            "Parameters [t(,q)(,p)]:  [9.89560465e+11]\n",
            "Optimized curvature gap:  2.125400741165232 \n",
            "\n",
            "Optimization terminated successfully.\n",
            "         Current function value: -2.234468\n",
            "         Iterations: 46\n",
            "         Function evaluations: 88\n",
            "Parameters [t(,q)(,p)]:  [4.2944301  0.86852696]\n",
            "Optimized curvature gap:  2.234467820990738 \n",
            "\n",
            "Optimization terminated successfully.\n",
            "         Current function value: -2.248082\n",
            "         Iterations: 131\n",
            "         Function evaluations: 242\n",
            "Parameters [t(,q)(,p)]:  [4.2102035  0.18830323 0.07405061]\n",
            "Optimized curvature gap:  2.2480824755121667 \n",
            "\n"
          ]
        }
      ]
    },
    {
      "cell_type": "markdown",
      "source": [
        "Vorheriger Aufruf, jetzt ersetzt durch Funktion maximize_curvature_gap"
      ],
      "metadata": {
        "id": "cLUa9W_TimKB"
      }
    },
    {
      "cell_type": "code",
      "source": [
        "    x0 = np.array([3])    \n",
        "    res = minimize(optimization_func, x0, method='nelder-mead', args = (cmp_key), options={'disp': True})\n",
        "    print(\"Parameters [t(,q)(,p)]: \",res.x)\n",
        "    print(\"Optimized curvature gap: \",-1 * res.fun, \"\\n\")\n",
        "\n",
        "    x0 = np.array([3, 2])    # Initial values for t,q,p\n",
        "    res = minimize(optimization_func, x0, method='nelder-mead', options={'disp': True})\n",
        "    print(\"Parameters [t(,q)(,p)]: \",res.x)\n",
        "    print(\"Optimized curvature gap: \",-1 * res.fun, \"\\n\")\n",
        "\n",
        "    x0 = np.array([3, 2, 1])    # Initial values for t,q,p\n",
        "    res = minimize(optimization_func, x0, method='nelder-mead', options={'disp': True})\n",
        "    print(\"Parameters [t(,q)(,p)]: \",res.x)\n",
        "    print(\"Optimized curvature gap: \",-1 * res.fun, \"\\n\")"
      ],
      "metadata": {
        "id": "ahpo0OQ_ehPS"
      },
      "execution_count": null,
      "outputs": []
    },
    {
      "cell_type": "markdown",
      "source": [
        "---\n",
        "Stochastic Block Model"
      ],
      "metadata": {
        "id": "PyQMHyjKXFnm"
      }
    },
    {
      "cell_type": "code",
      "source": [
        "# --------------------------------\n",
        "# ----------  simple SBM  --------\n",
        "# --------------------------------\n",
        "\n",
        "\n",
        "def simple_SBM():\n",
        "    sbm = {\"size_per_comm\" : 20, \"num_of_comm\" : 4, \"p_in\" : 0.70, \"p_out\" : 0.05}\n",
        "    sizes = build_size_list(sbm[\"size_per_comm\"], sbm[\"num_of_comm\"])\n",
        "    probs = build_prob_list(sbm[\"num_of_comm\"], sbm[\"p_in\"], sbm[\"p_out\"])\n",
        "    \n",
        "    G = nx.stochastic_block_model(sizes, probs, seed=0)   \n",
        "    init_edge_attributes(G)\n",
        "      \n",
        "    H = G.to_directed()\n",
        "    \n",
        "    cycles = []                         # hier werden die Zyklen bestimmt\n",
        "    for c in simple_cycles(H, 6):       # siehe oben: Funktion simple_cycles\n",
        "        cycles.append(c) \n",
        "    \n",
        "    d = dict()                          \n",
        "    for i in range(3,6):\n",
        "        d[i] = [c  for c in cycles  if len(c) == i]       # in d werden die Zyklen sortiert nach Länge\n",
        "        set_edge_attributes_2(G, d[i], i)                 # und für die Bestimmung der Curvature-Werte genutzt\n",
        "        \n",
        "    get_orc_edge_curvatures(G)                            # Alle Curvatures bestimmen\n",
        "    get_edge_curvatures(G, t_coeff = 3, q_coeff = 0.02, p_coeff = 0.002)\n",
        "    \n",
        "\n",
        "\n",
        "    return G\n",
        "\n",
        "G = simple_SBM()\n",
        "maximize_curvature_gap([3,2,1], cmp_key=\"block\")\n"
      ],
      "metadata": {
        "colab": {
          "base_uri": "https://localhost:8080/"
        },
        "id": "v06K6f6MXFCC",
        "outputId": "1ddb4dc7-a14b-4dd4-94c2-eab4d28ba971"
      },
      "execution_count": 18,
      "outputs": [
        {
          "output_type": "stream",
          "name": "stdout",
          "text": [
            "Optimization terminated successfully.\n",
            "         Current function value: -4.061278\n",
            "         Iterations: 14\n",
            "         Function evaluations: 28\n",
            "Parameters [t(,q)(,p)]:  [3.37895508]\n",
            "Optimized curvature gap:  4.061278095608505 \n",
            "\n",
            "Optimization terminated successfully.\n",
            "         Current function value: -4.828953\n",
            "         Iterations: 49\n",
            "         Function evaluations: 98\n",
            "Parameters [t(,q)(,p)]:  [0.71455462 0.18948533]\n",
            "Optimized curvature gap:  4.8289533617959375 \n",
            "\n",
            "Optimization terminated successfully.\n",
            "         Current function value: -4.892572\n",
            "         Iterations: 118\n",
            "         Function evaluations: 211\n",
            "Parameters [t(,q)(,p)]:  [ 0.60517732  0.35527772 -0.01153976]\n",
            "Optimized curvature gap:  4.892571555691521 \n",
            "\n"
          ]
        }
      ]
    }
  ]
}